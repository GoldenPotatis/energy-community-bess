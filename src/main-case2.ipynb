{
 "cells": [
  {
   "cell_type": "markdown",
   "id": "27733a3f-dd78-40cf-b9b5-26babede849d",
   "metadata": {},
   "source": [
    "# Case 2\n",
    "## Battery energy capacity 1440 kWh\n",
    "## Battery power capacity 750 kW"
   ]
  },
  {
   "cell_type": "code",
   "execution_count": 1,
   "id": "ad9cdaaf-ade3-4c00-8eb0-ed215136908c",
   "metadata": {},
   "outputs": [],
   "source": [
    "import numpy as np\n",
    "import pandas as pd\n",
    "import matplotlib.pyplot as plt\n",
    "import seaborn as sns"
   ]
  },
  {
   "cell_type": "code",
   "execution_count": 2,
   "id": "ea13c666-931f-47b5-9149-5754b717f971",
   "metadata": {},
   "outputs": [],
   "source": [
    "import bess_model as bess\n",
    "import run_simulation as simulation"
   ]
  },
  {
   "cell_type": "code",
   "execution_count": 3,
   "id": "e8ffde60-8184-4b67-8832-116af3e02ee6",
   "metadata": {},
   "outputs": [
    {
     "name": "stdout",
     "output_type": "stream",
     "text": [
      "             timestamp  1014\n",
      "0  2023-01-01 00:00:00   0.0\n",
      "1  2023-01-01 01:00:00   0.0\n",
      "2  2023-01-01 02:00:00   0.0\n",
      "3  2023-01-01 03:00:00   0.0\n",
      "4  2023-01-01 04:00:00   0.0\n",
      "             timestamp  PV(W)\n",
      "0  2023-01-01 00:00:00    0.0\n",
      "1  2023-01-01 01:00:00    0.0\n",
      "2  2023-01-01 02:00:00    0.0\n",
      "3  2023-01-01 03:00:00    0.0\n",
      "4  2023-01-01 04:00:00    0.0\n",
      "             timestamp    248\n",
      "0  2023-01-01 00:00:00  176.0\n",
      "1  2023-01-01 01:00:00  176.0\n",
      "2  2023-01-01 02:00:00  170.0\n",
      "3  2023-01-01 03:00:00  176.0\n",
      "4  2023-01-01 04:00:00  176.0\n",
      "             timestamp     35\n",
      "0  2023-01-01 00:00:00  117.0\n",
      "1  2023-01-01 01:00:00  114.0\n",
      "2  2023-01-01 02:00:00  123.0\n",
      "3  2023-01-01 03:00:00  117.0\n",
      "4  2023-01-01 04:00:00  120.0\n",
      "             timestamp    33\n",
      "0  2023-01-01 00:00:00  13.0\n",
      "1  2023-01-01 01:00:00  11.0\n",
      "2  2023-01-01 02:00:00   8.0\n",
      "3  2023-01-01 03:00:00  16.0\n",
      "4  2023-01-01 04:00:00  13.0\n",
      "   Unnamed: 0                       MTU (CET/CEST)  Day-ahead Price [EUR/MWh]  \\\n",
      "0           0  01.01.2023 00:00 - 01.01.2023 01:00                       2.01   \n",
      "1           1  01.01.2023 01:00 - 01.01.2023 02:00                       1.38   \n",
      "2           2  01.01.2023 02:00 - 01.01.2023 03:00                       0.09   \n",
      "3           3  01.01.2023 03:00 - 01.01.2023 04:00                       0.08   \n",
      "4           4  01.01.2023 04:00 - 01.01.2023 05:00                       0.05   \n",
      "\n",
      "  Currency  BZN|SE3  \n",
      "0      EUR      NaN  \n",
      "1      EUR      NaN  \n",
      "2      EUR      NaN  \n",
      "3      EUR      NaN  \n",
      "4      EUR      NaN  \n"
     ]
    }
   ],
   "source": [
    "# Load all datasets\n",
    "speed_raw = pd.read_csv('speed_pv_sold_cured.csv')\n",
    "speed_isolar_raw = pd.read_csv('isolar_1hkW.csv')\n",
    "speed_bought_raw = pd.read_csv('speed_el_bought.csv')\n",
    "tapetfabrik_bought_raw = pd.read_csv('tapetfabrik_el_bought.csv')\n",
    "careofcarl_bought_raw = pd.read_csv('careofcarl.csv')\n",
    "el_price2023_raw = pd.read_csv('el_price2023.csv')\n",
    "\n",
    "print(speed_raw.head())\n",
    "print(speed_isolar_raw.head())\n",
    "print(speed_bought_raw.head())\n",
    "print(tapetfabrik_bought_raw.head())\n",
    "print(careofcarl_bought_raw.head())\n",
    "print(el_price2023_raw.head())"
   ]
  },
  {
   "cell_type": "code",
   "execution_count": 4,
   "id": "4155e81c-c2ae-44fb-ba2f-f05a4b75bb64",
   "metadata": {},
   "outputs": [
    {
     "name": "stdout",
     "output_type": "stream",
     "text": [
      "False False False False False False\n"
     ]
    }
   ],
   "source": [
    "speed_sold = speed_raw['1014'].rename('PV sold (kW)')\n",
    "speed_sold.index = speed_raw['timestamp']\n",
    "\n",
    "speed_bought = speed_bought_raw['248'].rename('El bought (kW)')\n",
    "speed_bought.index = speed_bought_raw['timestamp']\n",
    "\n",
    "speed_isolar = speed_isolar_raw['PV(W)'].rename('PV production (kW)')\n",
    "speed_isolar.index = speed_isolar_raw['timestamp']\n",
    "\n",
    "tapetfabrik_bought = tapetfabrik_bought_raw['35'].rename('El bought (kW)')\n",
    "tapetfabrik_bought.index = tapetfabrik_bought_raw['timestamp']\n",
    "\n",
    "careofcarl_bought = careofcarl_bought_raw['33'].rename('El bought (kW)')\n",
    "careofcarl_bought.index = careofcarl_bought_raw['timestamp']\n",
    "\n",
    "el_price = (el_price2023_raw['Day-ahead Price [EUR/MWh]'] / 1000).rename('EUR/kWh')\n",
    "el_price.index = speed_raw['timestamp']\n",
    "\n",
    "print(speed_sold.isnull().any(), \n",
    "      speed_bought.isnull().any(), \n",
    "      speed_isolar.isnull().any(), \n",
    "      tapetfabrik_bought.isnull().any(),\n",
    "      careofcarl_bought.isnull().any(),\n",
    "      el_price.isnull().any()\n",
    "     )"
   ]
  },
  {
   "cell_type": "code",
   "execution_count": 5,
   "id": "3897e772-741a-4c32-bfca-e23188e3c12c",
   "metadata": {},
   "outputs": [],
   "source": [
    "speed_demand = speed_isolar - speed_sold + speed_bought\n",
    "speed_demand.isnull().any()\n",
    "tapetfabrik_demand = tapetfabrik_bought\n",
    "careofcarl_demand = careofcarl_bought"
   ]
  },
  {
   "cell_type": "markdown",
   "id": "968e0395-1b86-4d2c-84a3-0b1e69f7337d",
   "metadata": {},
   "source": [
    "# Scenario 1: Base case\n",
    "Building A, B and C operates individually. Building A has PV installed and excess PV are exported to the grid, but no virtual power sharing enabled with building B and C (No energy community established). No BESS installed.  \n",
    "\n",
    "**Indicators**:\n",
    "* PV self-consumption\n",
    "* Electricity bought from the grid\n",
    "* Total electricity cost"
   ]
  },
  {
   "cell_type": "code",
   "execution_count": 6,
   "id": "e0ff63f3-4eed-49ae-86c6-499fc846f6c9",
   "metadata": {},
   "outputs": [
    {
     "name": "stdout",
     "output_type": "stream",
     "text": [
      "PV self consumption scenario 1: 0.3771063494419648\n"
     ]
    }
   ],
   "source": [
    "pv_self_s1 = (speed_isolar - speed_sold).sum() / speed_isolar.sum()\n",
    "print('PV self consumption scenario 1:', pv_self_s1)"
   ]
  },
  {
   "cell_type": "code",
   "execution_count": 7,
   "id": "805ed6f2-59bb-44ab-8bc9-b74b4e40cd32",
   "metadata": {},
   "outputs": [
    {
     "name": "stdout",
     "output_type": "stream",
     "text": [
      "Electricity bought from grid scenario 1 (kWh): 4725528.17\n"
     ]
    }
   ],
   "source": [
    "el_bought_s1 = speed_bought + tapetfabrik_bought + careofcarl_bought\n",
    "print('Electricity bought from grid scenario 1 (kWh):', el_bought_s1.sum())"
   ]
  },
  {
   "cell_type": "code",
   "execution_count": 8,
   "id": "4c8b2d88-f464-4cdd-8eb9-92292d1c7caa",
   "metadata": {},
   "outputs": [
    {
     "name": "stdout",
     "output_type": "stream",
     "text": [
      "Electricity cost scenario 1 (€): 285750.6194973\n",
      "Electricity revenue scenario 1 (€): 69194.95373836404\n",
      "Net electricity cost scenario 1 (€): 216555.66575893597\n"
     ]
    }
   ],
   "source": [
    "el_cost_s1 = (el_price * el_bought_s1).sum()\n",
    "el_revenue_s1 = (el_price * speed_sold).sum()\n",
    "el_net_cost_s1 = el_cost_s1 - el_revenue_s1\n",
    "print('Electricity cost scenario 1 (€):', el_cost_s1)\n",
    "print('Electricity revenue scenario 1 (€):', el_revenue_s1)\n",
    "print('Net electricity cost scenario 1 (€):', el_net_cost_s1)"
   ]
  },
  {
   "cell_type": "markdown",
   "id": "49adc504-122f-4571-8434-03be576067c7",
   "metadata": {},
   "source": [
    "# Scenario 2: Base + PV virtual sharing\n",
    "Building A, B and C establishes an energy community, so that excess PV can be virtually shared by building B and C. No BESS installed.  \n",
    "\n",
    "**Indicators**:\n",
    "* PV self-consumption\n",
    "* Electricity bought from the grid\n",
    "* Total electricity cost"
   ]
  },
  {
   "cell_type": "code",
   "execution_count": 9,
   "id": "0a423f65-5848-41bc-8597-badc77fba8c2",
   "metadata": {},
   "outputs": [
    {
     "name": "stdout",
     "output_type": "stream",
     "text": [
      "Electricity bought from grid scenario 2 (kWh): 4031995.093941369\n"
     ]
    }
   ],
   "source": [
    "diff = speed_isolar - (speed_demand + tapetfabrik_demand + careofcarl_demand)\n",
    "el_bought_s2 = -diff.where(diff<0).fillna(0)\n",
    "el_bought_s2.shape\n",
    "el_bought_s2.sum()\n",
    "print('Electricity bought from grid scenario 2 (kWh):', el_bought_s2.sum())"
   ]
  },
  {
   "cell_type": "code",
   "execution_count": 10,
   "id": "48b251fa-e2b1-40a4-bdcf-ac79bdfddc22",
   "metadata": {},
   "outputs": [
    {
     "name": "stdout",
     "output_type": "stream",
     "text": [
      "PV self consumption scenario 2: 0.6522416191966164\n"
     ]
    }
   ],
   "source": [
    "pv_self_s2 = ((speed_demand + tapetfabrik_demand + careofcarl_demand).sum() - el_bought_s2.sum()) / speed_isolar.sum()\n",
    "pv_self_s2\n",
    "print('PV self consumption scenario 2:', pv_self_s2)"
   ]
  },
  {
   "cell_type": "code",
   "execution_count": 11,
   "id": "8a0f0668-5bb6-40f0-938c-410ea1a9025e",
   "metadata": {},
   "outputs": [
    {
     "name": "stdout",
     "output_type": "stream",
     "text": [
      "Electricity cost scenario 2 (€): 248427.1697114401\n",
      "Electricity revenue scenario 2 (€): 31871.503952504172\n",
      "Net electricity cost scenario 2 (€): 216555.66575893594\n"
     ]
    }
   ],
   "source": [
    "el_cost_s2 = (el_price * (el_bought_s2)).sum()\n",
    "speed_sold_s2 = diff.where(diff>0).fillna(0)\n",
    "\n",
    "el_revenue_s2 = (el_price * speed_sold_s2).sum()\n",
    "el_net_cost_s2 = el_cost_s2 - el_revenue_s2\n",
    "print('Electricity cost scenario 2 (€):', el_cost_s2)\n",
    "print('Electricity revenue scenario 2 (€):', el_revenue_s2)\n",
    "print('Net electricity cost scenario 2 (€):', el_net_cost_s2)"
   ]
  },
  {
   "cell_type": "markdown",
   "id": "938deef9-c655-4597-9f58-a5b7739e3920",
   "metadata": {},
   "source": [
    "# Scenario 3\n",
    "Building A, B and C establishes an energy community, so that excess PV can be virtually shared by building B and C. This energy community is further enhanced by a BESS installed.\n",
    "\n",
    "**Indicators**:\n",
    "\n",
    "* PV self-consumption\n",
    "* Electricity bought from the grid\n",
    "* Total electricity cost"
   ]
  },
  {
   "cell_type": "code",
   "execution_count": 12,
   "id": "31521306-c5d4-48d8-a1be-4ff89564da54",
   "metadata": {},
   "outputs": [
    {
     "data": {
      "text/plain": [
       "{'soc': 0.5,\n",
       " 'existing energy': 720.0,\n",
       " 'total charged energy': 0,\n",
       " 'total discharged energy': 0,\n",
       " 'total losses': 0}"
      ]
     },
     "execution_count": 12,
     "metadata": {},
     "output_type": "execute_result"
    }
   ],
   "source": [
    "total_demand = speed_demand + tapetfabrik_demand + careofcarl_demand\n",
    "battery = bess.BatteryEnergyStorageSystem(battery_capacity=1440, battery_power=750)\n",
    "battery.get_battery_state()"
   ]
  },
  {
   "cell_type": "code",
   "execution_count": 13,
   "id": "2159498f-f79e-4a69-9450-03d91d8e3001",
   "metadata": {},
   "outputs": [
    {
     "data": {
      "text/html": [
       "<div>\n",
       "<style scoped>\n",
       "    .dataframe tbody tr th:only-of-type {\n",
       "        vertical-align: middle;\n",
       "    }\n",
       "\n",
       "    .dataframe tbody tr th {\n",
       "        vertical-align: top;\n",
       "    }\n",
       "\n",
       "    .dataframe thead th {\n",
       "        text-align: right;\n",
       "    }\n",
       "</style>\n",
       "<table border=\"1\" class=\"dataframe\">\n",
       "  <thead>\n",
       "    <tr style=\"text-align: right;\">\n",
       "      <th></th>\n",
       "      <th>timestamp</th>\n",
       "      <th>pv_generation</th>\n",
       "      <th>building_demand</th>\n",
       "      <th>electricity_prices</th>\n",
       "      <th>energy_movement</th>\n",
       "      <th>battery_soc</th>\n",
       "      <th>battery_energy</th>\n",
       "      <th>grid_power</th>\n",
       "      <th>electricity_cost</th>\n",
       "    </tr>\n",
       "  </thead>\n",
       "  <tbody>\n",
       "    <tr>\n",
       "      <th>0</th>\n",
       "      <td>2023-01-01 00:00:00</td>\n",
       "      <td>0.0</td>\n",
       "      <td>306.00</td>\n",
       "      <td>0.00201</td>\n",
       "      <td>-290.7</td>\n",
       "      <td>0.298125</td>\n",
       "      <td>429.3</td>\n",
       "      <td>-15.30</td>\n",
       "      <td>-0.030753</td>\n",
       "    </tr>\n",
       "    <tr>\n",
       "      <th>1</th>\n",
       "      <td>2023-01-01 01:00:00</td>\n",
       "      <td>0.0</td>\n",
       "      <td>301.00</td>\n",
       "      <td>0.00138</td>\n",
       "      <td>-285.3</td>\n",
       "      <td>0.100000</td>\n",
       "      <td>144.0</td>\n",
       "      <td>-15.70</td>\n",
       "      <td>-0.021666</td>\n",
       "    </tr>\n",
       "    <tr>\n",
       "      <th>2</th>\n",
       "      <td>2023-01-01 02:00:00</td>\n",
       "      <td>0.0</td>\n",
       "      <td>301.00</td>\n",
       "      <td>0.00009</td>\n",
       "      <td>-0.0</td>\n",
       "      <td>0.100000</td>\n",
       "      <td>144.0</td>\n",
       "      <td>-301.00</td>\n",
       "      <td>-0.027090</td>\n",
       "    </tr>\n",
       "    <tr>\n",
       "      <th>3</th>\n",
       "      <td>2023-01-01 03:00:00</td>\n",
       "      <td>0.0</td>\n",
       "      <td>309.00</td>\n",
       "      <td>0.00008</td>\n",
       "      <td>-0.0</td>\n",
       "      <td>0.100000</td>\n",
       "      <td>144.0</td>\n",
       "      <td>-309.00</td>\n",
       "      <td>-0.024720</td>\n",
       "    </tr>\n",
       "    <tr>\n",
       "      <th>4</th>\n",
       "      <td>2023-01-01 04:00:00</td>\n",
       "      <td>0.0</td>\n",
       "      <td>309.00</td>\n",
       "      <td>0.00005</td>\n",
       "      <td>-0.0</td>\n",
       "      <td>0.100000</td>\n",
       "      <td>144.0</td>\n",
       "      <td>-309.00</td>\n",
       "      <td>-0.015450</td>\n",
       "    </tr>\n",
       "    <tr>\n",
       "      <th>...</th>\n",
       "      <td>...</td>\n",
       "      <td>...</td>\n",
       "      <td>...</td>\n",
       "      <td>...</td>\n",
       "      <td>...</td>\n",
       "      <td>...</td>\n",
       "      <td>...</td>\n",
       "      <td>...</td>\n",
       "      <td>...</td>\n",
       "    </tr>\n",
       "    <tr>\n",
       "      <th>8755</th>\n",
       "      <td>2023-12-31 19:00:00</td>\n",
       "      <td>0.0</td>\n",
       "      <td>303.90</td>\n",
       "      <td>0.03964</td>\n",
       "      <td>-0.0</td>\n",
       "      <td>0.100000</td>\n",
       "      <td>144.0</td>\n",
       "      <td>-303.90</td>\n",
       "      <td>-12.046596</td>\n",
       "    </tr>\n",
       "    <tr>\n",
       "      <th>8756</th>\n",
       "      <td>2023-12-31 20:00:00</td>\n",
       "      <td>0.0</td>\n",
       "      <td>303.87</td>\n",
       "      <td>0.03489</td>\n",
       "      <td>-0.0</td>\n",
       "      <td>0.100000</td>\n",
       "      <td>144.0</td>\n",
       "      <td>-303.87</td>\n",
       "      <td>-10.602024</td>\n",
       "    </tr>\n",
       "    <tr>\n",
       "      <th>8757</th>\n",
       "      <td>2023-12-31 21:00:00</td>\n",
       "      <td>0.0</td>\n",
       "      <td>308.95</td>\n",
       "      <td>0.02960</td>\n",
       "      <td>-0.0</td>\n",
       "      <td>0.100000</td>\n",
       "      <td>144.0</td>\n",
       "      <td>-308.95</td>\n",
       "      <td>-9.144920</td>\n",
       "    </tr>\n",
       "    <tr>\n",
       "      <th>8758</th>\n",
       "      <td>2023-12-31 22:00:00</td>\n",
       "      <td>0.0</td>\n",
       "      <td>309.37</td>\n",
       "      <td>0.02867</td>\n",
       "      <td>-0.0</td>\n",
       "      <td>0.100000</td>\n",
       "      <td>144.0</td>\n",
       "      <td>-309.37</td>\n",
       "      <td>-8.869638</td>\n",
       "    </tr>\n",
       "    <tr>\n",
       "      <th>8759</th>\n",
       "      <td>2023-12-31 23:00:00</td>\n",
       "      <td>0.0</td>\n",
       "      <td>300.98</td>\n",
       "      <td>0.02687</td>\n",
       "      <td>-0.0</td>\n",
       "      <td>0.100000</td>\n",
       "      <td>144.0</td>\n",
       "      <td>-300.98</td>\n",
       "      <td>-8.087333</td>\n",
       "    </tr>\n",
       "  </tbody>\n",
       "</table>\n",
       "<p>8760 rows × 9 columns</p>\n",
       "</div>"
      ],
      "text/plain": [
       "                timestamp  pv_generation  building_demand  electricity_prices  \\\n",
       "0     2023-01-01 00:00:00            0.0           306.00             0.00201   \n",
       "1     2023-01-01 01:00:00            0.0           301.00             0.00138   \n",
       "2     2023-01-01 02:00:00            0.0           301.00             0.00009   \n",
       "3     2023-01-01 03:00:00            0.0           309.00             0.00008   \n",
       "4     2023-01-01 04:00:00            0.0           309.00             0.00005   \n",
       "...                   ...            ...              ...                 ...   \n",
       "8755  2023-12-31 19:00:00            0.0           303.90             0.03964   \n",
       "8756  2023-12-31 20:00:00            0.0           303.87             0.03489   \n",
       "8757  2023-12-31 21:00:00            0.0           308.95             0.02960   \n",
       "8758  2023-12-31 22:00:00            0.0           309.37             0.02867   \n",
       "8759  2023-12-31 23:00:00            0.0           300.98             0.02687   \n",
       "\n",
       "      energy_movement  battery_soc  battery_energy  grid_power  \\\n",
       "0              -290.7     0.298125           429.3      -15.30   \n",
       "1              -285.3     0.100000           144.0      -15.70   \n",
       "2                -0.0     0.100000           144.0     -301.00   \n",
       "3                -0.0     0.100000           144.0     -309.00   \n",
       "4                -0.0     0.100000           144.0     -309.00   \n",
       "...               ...          ...             ...         ...   \n",
       "8755             -0.0     0.100000           144.0     -303.90   \n",
       "8756             -0.0     0.100000           144.0     -303.87   \n",
       "8757             -0.0     0.100000           144.0     -308.95   \n",
       "8758             -0.0     0.100000           144.0     -309.37   \n",
       "8759             -0.0     0.100000           144.0     -300.98   \n",
       "\n",
       "      electricity_cost  \n",
       "0            -0.030753  \n",
       "1            -0.021666  \n",
       "2            -0.027090  \n",
       "3            -0.024720  \n",
       "4            -0.015450  \n",
       "...                ...  \n",
       "8755        -12.046596  \n",
       "8756        -10.602024  \n",
       "8757         -9.144920  \n",
       "8758         -8.869638  \n",
       "8759         -8.087333  \n",
       "\n",
       "[8760 rows x 9 columns]"
      ]
     },
     "execution_count": 13,
     "metadata": {},
     "output_type": "execute_result"
    }
   ],
   "source": [
    "results = simulation.run_simulation(battery, speed_isolar, total_demand, el_price)\n",
    "results"
   ]
  },
  {
   "cell_type": "code",
   "execution_count": 14,
   "id": "d9076a12-4592-42ac-bd24-a5dc13de036b",
   "metadata": {},
   "outputs": [
    {
     "data": {
      "text/html": [
       "<div>\n",
       "<style scoped>\n",
       "    .dataframe tbody tr th:only-of-type {\n",
       "        vertical-align: middle;\n",
       "    }\n",
       "\n",
       "    .dataframe tbody tr th {\n",
       "        vertical-align: top;\n",
       "    }\n",
       "\n",
       "    .dataframe thead th {\n",
       "        text-align: right;\n",
       "    }\n",
       "</style>\n",
       "<table border=\"1\" class=\"dataframe\">\n",
       "  <thead>\n",
       "    <tr style=\"text-align: right;\">\n",
       "      <th></th>\n",
       "      <th>timestamp</th>\n",
       "      <th>pv_generation</th>\n",
       "      <th>building_demand</th>\n",
       "      <th>electricity_prices</th>\n",
       "      <th>energy_movement</th>\n",
       "      <th>battery_soc</th>\n",
       "      <th>battery_energy</th>\n",
       "      <th>grid_power</th>\n",
       "      <th>electricity_cost</th>\n",
       "    </tr>\n",
       "    <tr>\n",
       "      <th>timestamp</th>\n",
       "      <th></th>\n",
       "      <th></th>\n",
       "      <th></th>\n",
       "      <th></th>\n",
       "      <th></th>\n",
       "      <th></th>\n",
       "      <th></th>\n",
       "      <th></th>\n",
       "      <th></th>\n",
       "    </tr>\n",
       "  </thead>\n",
       "  <tbody>\n",
       "    <tr>\n",
       "      <th>2023-01-01 00:00:00</th>\n",
       "      <td>2023-01-01 00:00:00</td>\n",
       "      <td>0.0</td>\n",
       "      <td>306.00</td>\n",
       "      <td>0.00201</td>\n",
       "      <td>-290.7</td>\n",
       "      <td>0.298125</td>\n",
       "      <td>429.3</td>\n",
       "      <td>-15.30</td>\n",
       "      <td>-0.030753</td>\n",
       "    </tr>\n",
       "    <tr>\n",
       "      <th>2023-01-01 01:00:00</th>\n",
       "      <td>2023-01-01 01:00:00</td>\n",
       "      <td>0.0</td>\n",
       "      <td>301.00</td>\n",
       "      <td>0.00138</td>\n",
       "      <td>-285.3</td>\n",
       "      <td>0.100000</td>\n",
       "      <td>144.0</td>\n",
       "      <td>-15.70</td>\n",
       "      <td>-0.021666</td>\n",
       "    </tr>\n",
       "    <tr>\n",
       "      <th>2023-01-01 02:00:00</th>\n",
       "      <td>2023-01-01 02:00:00</td>\n",
       "      <td>0.0</td>\n",
       "      <td>301.00</td>\n",
       "      <td>0.00009</td>\n",
       "      <td>-0.0</td>\n",
       "      <td>0.100000</td>\n",
       "      <td>144.0</td>\n",
       "      <td>-301.00</td>\n",
       "      <td>-0.027090</td>\n",
       "    </tr>\n",
       "    <tr>\n",
       "      <th>2023-01-01 03:00:00</th>\n",
       "      <td>2023-01-01 03:00:00</td>\n",
       "      <td>0.0</td>\n",
       "      <td>309.00</td>\n",
       "      <td>0.00008</td>\n",
       "      <td>-0.0</td>\n",
       "      <td>0.100000</td>\n",
       "      <td>144.0</td>\n",
       "      <td>-309.00</td>\n",
       "      <td>-0.024720</td>\n",
       "    </tr>\n",
       "    <tr>\n",
       "      <th>2023-01-01 04:00:00</th>\n",
       "      <td>2023-01-01 04:00:00</td>\n",
       "      <td>0.0</td>\n",
       "      <td>309.00</td>\n",
       "      <td>0.00005</td>\n",
       "      <td>-0.0</td>\n",
       "      <td>0.100000</td>\n",
       "      <td>144.0</td>\n",
       "      <td>-309.00</td>\n",
       "      <td>-0.015450</td>\n",
       "    </tr>\n",
       "    <tr>\n",
       "      <th>...</th>\n",
       "      <td>...</td>\n",
       "      <td>...</td>\n",
       "      <td>...</td>\n",
       "      <td>...</td>\n",
       "      <td>...</td>\n",
       "      <td>...</td>\n",
       "      <td>...</td>\n",
       "      <td>...</td>\n",
       "      <td>...</td>\n",
       "    </tr>\n",
       "    <tr>\n",
       "      <th>2023-12-31 19:00:00</th>\n",
       "      <td>2023-12-31 19:00:00</td>\n",
       "      <td>0.0</td>\n",
       "      <td>303.90</td>\n",
       "      <td>0.03964</td>\n",
       "      <td>-0.0</td>\n",
       "      <td>0.100000</td>\n",
       "      <td>144.0</td>\n",
       "      <td>-303.90</td>\n",
       "      <td>-12.046596</td>\n",
       "    </tr>\n",
       "    <tr>\n",
       "      <th>2023-12-31 20:00:00</th>\n",
       "      <td>2023-12-31 20:00:00</td>\n",
       "      <td>0.0</td>\n",
       "      <td>303.87</td>\n",
       "      <td>0.03489</td>\n",
       "      <td>-0.0</td>\n",
       "      <td>0.100000</td>\n",
       "      <td>144.0</td>\n",
       "      <td>-303.87</td>\n",
       "      <td>-10.602024</td>\n",
       "    </tr>\n",
       "    <tr>\n",
       "      <th>2023-12-31 21:00:00</th>\n",
       "      <td>2023-12-31 21:00:00</td>\n",
       "      <td>0.0</td>\n",
       "      <td>308.95</td>\n",
       "      <td>0.02960</td>\n",
       "      <td>-0.0</td>\n",
       "      <td>0.100000</td>\n",
       "      <td>144.0</td>\n",
       "      <td>-308.95</td>\n",
       "      <td>-9.144920</td>\n",
       "    </tr>\n",
       "    <tr>\n",
       "      <th>2023-12-31 22:00:00</th>\n",
       "      <td>2023-12-31 22:00:00</td>\n",
       "      <td>0.0</td>\n",
       "      <td>309.37</td>\n",
       "      <td>0.02867</td>\n",
       "      <td>-0.0</td>\n",
       "      <td>0.100000</td>\n",
       "      <td>144.0</td>\n",
       "      <td>-309.37</td>\n",
       "      <td>-8.869638</td>\n",
       "    </tr>\n",
       "    <tr>\n",
       "      <th>2023-12-31 23:00:00</th>\n",
       "      <td>2023-12-31 23:00:00</td>\n",
       "      <td>0.0</td>\n",
       "      <td>300.98</td>\n",
       "      <td>0.02687</td>\n",
       "      <td>-0.0</td>\n",
       "      <td>0.100000</td>\n",
       "      <td>144.0</td>\n",
       "      <td>-300.98</td>\n",
       "      <td>-8.087333</td>\n",
       "    </tr>\n",
       "  </tbody>\n",
       "</table>\n",
       "<p>8760 rows × 9 columns</p>\n",
       "</div>"
      ],
      "text/plain": [
       "                               timestamp  pv_generation  building_demand  \\\n",
       "timestamp                                                                  \n",
       "2023-01-01 00:00:00  2023-01-01 00:00:00            0.0           306.00   \n",
       "2023-01-01 01:00:00  2023-01-01 01:00:00            0.0           301.00   \n",
       "2023-01-01 02:00:00  2023-01-01 02:00:00            0.0           301.00   \n",
       "2023-01-01 03:00:00  2023-01-01 03:00:00            0.0           309.00   \n",
       "2023-01-01 04:00:00  2023-01-01 04:00:00            0.0           309.00   \n",
       "...                                  ...            ...              ...   \n",
       "2023-12-31 19:00:00  2023-12-31 19:00:00            0.0           303.90   \n",
       "2023-12-31 20:00:00  2023-12-31 20:00:00            0.0           303.87   \n",
       "2023-12-31 21:00:00  2023-12-31 21:00:00            0.0           308.95   \n",
       "2023-12-31 22:00:00  2023-12-31 22:00:00            0.0           309.37   \n",
       "2023-12-31 23:00:00  2023-12-31 23:00:00            0.0           300.98   \n",
       "\n",
       "                     electricity_prices  energy_movement  battery_soc  \\\n",
       "timestamp                                                               \n",
       "2023-01-01 00:00:00             0.00201           -290.7     0.298125   \n",
       "2023-01-01 01:00:00             0.00138           -285.3     0.100000   \n",
       "2023-01-01 02:00:00             0.00009             -0.0     0.100000   \n",
       "2023-01-01 03:00:00             0.00008             -0.0     0.100000   \n",
       "2023-01-01 04:00:00             0.00005             -0.0     0.100000   \n",
       "...                                 ...              ...          ...   \n",
       "2023-12-31 19:00:00             0.03964             -0.0     0.100000   \n",
       "2023-12-31 20:00:00             0.03489             -0.0     0.100000   \n",
       "2023-12-31 21:00:00             0.02960             -0.0     0.100000   \n",
       "2023-12-31 22:00:00             0.02867             -0.0     0.100000   \n",
       "2023-12-31 23:00:00             0.02687             -0.0     0.100000   \n",
       "\n",
       "                     battery_energy  grid_power  electricity_cost  \n",
       "timestamp                                                          \n",
       "2023-01-01 00:00:00           429.3      -15.30         -0.030753  \n",
       "2023-01-01 01:00:00           144.0      -15.70         -0.021666  \n",
       "2023-01-01 02:00:00           144.0     -301.00         -0.027090  \n",
       "2023-01-01 03:00:00           144.0     -309.00         -0.024720  \n",
       "2023-01-01 04:00:00           144.0     -309.00         -0.015450  \n",
       "...                             ...         ...               ...  \n",
       "2023-12-31 19:00:00           144.0     -303.90        -12.046596  \n",
       "2023-12-31 20:00:00           144.0     -303.87        -10.602024  \n",
       "2023-12-31 21:00:00           144.0     -308.95         -9.144920  \n",
       "2023-12-31 22:00:00           144.0     -309.37         -8.869638  \n",
       "2023-12-31 23:00:00           144.0     -300.98         -8.087333  \n",
       "\n",
       "[8760 rows x 9 columns]"
      ]
     },
     "execution_count": 14,
     "metadata": {},
     "output_type": "execute_result"
    }
   ],
   "source": [
    "results.set_index(results['timestamp'], inplace=True)\n",
    "results"
   ]
  },
  {
   "cell_type": "code",
   "execution_count": 15,
   "id": "7ac29b1c-8f43-4d6d-9833-f1ea67ece5ea",
   "metadata": {},
   "outputs": [
    {
     "data": {
      "text/plain": [
       "np.float64(0.7352280190815617)"
      ]
     },
     "execution_count": 15,
     "metadata": {},
     "output_type": "execute_result"
    }
   ],
   "source": [
    "el_imported = results['grid_power'].where(results['grid_power']<0).fillna(0)\n",
    "el_imported.reindex(results['timestamp'])\n",
    "pv_self_s3 = (total_demand.sum() + el_imported.sum()) / speed_isolar.sum()\n",
    "pv_self_s3"
   ]
  },
  {
   "cell_type": "code",
   "execution_count": 16,
   "id": "bf2f6751-2d63-4905-96f6-fc0b1ee4cf1f",
   "metadata": {},
   "outputs": [
    {
     "data": {
      "text/plain": [
       "np.float64(3822811.3959205355)"
      ]
     },
     "execution_count": 16,
     "metadata": {},
     "output_type": "execute_result"
    }
   ],
   "source": [
    "el_bought_s3 = -el_imported.sum()\n",
    "el_bought_s3"
   ]
  },
  {
   "cell_type": "code",
   "execution_count": 17,
   "id": "ccc93da6-e8ca-4b31-8250-f5e77fcecfaf",
   "metadata": {},
   "outputs": [
    {
     "name": "stdout",
     "output_type": "stream",
     "text": [
      "Electricity cost scenario 3 (€): 237842.78324069292\n",
      "Electricity revenue scenario 3 (€): 22083.615346253624\n",
      "Net electricity cost scenario 3 (€): 215759.1678944393\n"
     ]
    }
   ],
   "source": [
    "el_cost_s3 = -results['electricity_cost'][results['electricity_cost']<0].sum()\n",
    "print('Electricity cost scenario 3 (€):', el_cost_s3)\n",
    "el_revenue_s3 = results['electricity_cost'][results['electricity_cost']>0].sum()\n",
    "print('Electricity revenue scenario 3 (€):', el_revenue_s3)\n",
    "el_net_cost_s3 = el_cost_s3 - el_revenue_s3\n",
    "print('Net electricity cost scenario 3 (€):', el_net_cost_s3)"
   ]
  },
  {
   "cell_type": "markdown",
   "id": "e06b34d3-7b7e-4244-b51d-f165cda096ae",
   "metadata": {},
   "source": [
    "# Results visualisation\n",
    "\n",
    "Left panel: (representative days) PV output, Self-consumption, Battery charging/discharging, Battery SoC, Electricity price\n",
    "\n",
    "Right Panel: PV self-consumption, El bought and El costs for 3 scenarios"
   ]
  },
  {
   "cell_type": "code",
   "execution_count": 38,
   "id": "27193675-30b1-4105-aae4-c5319daa717b",
   "metadata": {},
   "outputs": [],
   "source": [
    "start = '2023-05-15 06:00:00'\n",
    "end = '2023-05-18 06:00:00'\n",
    "timestamps = pd.date_range(start=start, end=end, freq='h')\n",
    "pv_output = speed_isolar[start:end]\n",
    "self_consumption1 = (speed_isolar - speed_sold)[start:end]\n",
    "self_consumption2 = (speed_demand + tapetfabrik_demand + careofcarl_demand - el_bought_s2)[start:end]\n",
    "self_consumption3 = (total_demand + el_imported)[start:end]\n",
    "charge_discharge = results['energy_movement'][start:end]\n",
    "battery_soc = results['battery_soc'][start:end]\n",
    "load = total_demand[start:end]\n",
    "selected_price = el_price[start:end]"
   ]
  },
  {
   "cell_type": "code",
   "execution_count": 146,
   "id": "4287cc47-5890-4358-a9eb-8cd038c6d28f",
   "metadata": {},
   "outputs": [
    {
     "data": {
      "image/png": "[encoded data removed]",
      "text/plain": [
       "<Figure size 400x300 with 2 Axes>"
      ]
     },
     "metadata": {},
     "output_type": "display_data"
    }
   ],
   "source": [
    "fig = plt.figure(figsize=(4,3))\n",
    "sns.set_theme(style='white')\n",
    "#plt.style.use('seaborn-white')\n",
    "ax = fig.add_axes([0,0,2,1])\n",
    "ax_twin = ax.twinx() # share the x, electricity price\n",
    "\n",
    "sns.lineplot(x=pv_output.index, y=pv_output.values, ax=ax, color='#fdae61', alpha=1, label='PV output')\n",
    "sns.lineplot(x=load.index, y=load.values, ax=ax, color='#9e0142', label='Load')\n",
    "sns.lineplot(x=selected_price.index, y=selected_price.values*1000, ax=ax_twin, linestyle='--', color='k', label='Electricity price')\n",
    "ax.stackplot(self_consumption2.index, self_consumption2.values, color='#fee08b', labels=['Self-consumption'])\n",
    "sns.barplot(x=charge_discharge.index, y=charge_discharge, ax=ax, color='#78c679', label='Charge/Discharge')\n",
    "\n",
    "ax.set_xticks([i for i in range(0,72,12)])\n",
    "ax.set_xticklabels([i for i in range(0,72,12)])\n",
    "ax.set_xlabel('Hours')\n",
    "\n",
    "ax.set_ylabel('Power (kW)')\n",
    "ax.set_yticks([i for i in range(-500, 2500, 500)])\n",
    "ax_twin.set_ylabel('Electricity price (€/MWh)')\n",
    "ax_twin.get_legend().remove()\n",
    "\n",
    "handles1, labels1 = ax.get_legend_handles_labels()\n",
    "handles2, labels2 = ax_twin.get_legend_handles_labels()\n",
    "\n",
    "ax.legend(handles1+handles2, labels1+labels2, bbox_to_anchor=(0.1, 0.82), ncol=3, frameon=0)\n",
    "plt.savefig('dashboard.png', dpi=600, bbox_inches='tight')\n",
    "\n",
    "plt.show()"
   ]
  },
  {
   "cell_type": "code",
   "execution_count": 90,
   "id": "100181d7-e925-419a-a09a-4207611e6621",
   "metadata": {},
   "outputs": [
    {
     "data": {
      "text/plain": [
       "timestamp\n",
       "2023-05-15 06:00:00    14.51\n",
       "2023-05-15 07:00:00    92.26\n",
       "2023-05-15 08:00:00    94.13\n",
       "2023-05-15 09:00:00    87.33\n",
       "2023-05-15 10:00:00    52.98\n",
       "                       ...  \n",
       "2023-05-18 02:00:00    -3.36\n",
       "2023-05-18 03:00:00    -3.22\n",
       "2023-05-18 04:00:00    -2.59\n",
       "2023-05-18 05:00:00    -2.01\n",
       "2023-05-18 06:00:00    -1.11\n",
       "Name: EUR/kWh, Length: 73, dtype: float64"
      ]
     },
     "execution_count": 90,
     "metadata": {},
     "output_type": "execute_result"
    }
   ],
   "source": [
    "selected_price*1000"
   ]
  },
  {
   "cell_type": "code",
   "execution_count": 265,
   "id": "1d351bac-c85e-4735-bfce-76d2c79cb865",
   "metadata": {},
   "outputs": [
    {
     "data": {
      "image/png": "[encoded data removed]",
      "text/plain": [
       "<Figure size 640x480 with 5 Axes>"
      ]
     },
     "metadata": {},
     "output_type": "display_data"
    }
   ],
   "source": [
    "fig = plt.figure()\n",
    "sns.set_theme(style='white')\n",
    "ax0 = fig.add_subplot(2,2,1)\n",
    "ax1 = fig.add_subplot(2,2,3)\n",
    "s = ['S1', 'S2', 'S3']\n",
    "\n",
    "# PV self consumption rate\n",
    "sns.barplot(x=[pv_self_s1, pv_self_s2, pv_self_s3], y=s, ax=ax0, orient='h', width=0.5, color='#fee08b')\n",
    "for bar in ax0.patches:\n",
    "    width = bar.get_width()  # Get bar length\n",
    "    ax0.text(width - 0.15,  # X position (slightly to the right of the bar)\n",
    "            bar.get_y() + bar.get_height() / 2,  # Y position (center of the bar)\n",
    "            f\"{width:.0%}\",  # Format as percentage\n",
    "            ha=\"left\", va=\"center\", fontsize=12, color=\"black\")\n",
    "ax0.set_xticks([])\n",
    "ax0.set_xlabel('PV self consumption rate')\n",
    "\n",
    "# Grid purchased electricity \n",
    "sns.barplot(x=[el_bought_s1.sum()/1000, el_bought_s2.sum()/1000, el_bought_s3.sum()/1000], \n",
    "            y=s, ax=ax1, orient='h', width=0.5, color='#74add1')\n",
    "for bar in ax1.patches:\n",
    "    width = bar.get_width()  # Get bar length\n",
    "    ax1.text(width - 1200,  # X position (slightly to the right of the bar)\n",
    "            bar.get_y() + bar.get_height() / 2,  # Y position (center of the bar)\n",
    "            f\"{width:.5}\",  # Format as percentage\n",
    "            ha=\"left\", va=\"center\", fontsize=12, color=\"black\")\n",
    "ax1.set_xticks([])\n",
    "ax1.set_xlabel('Grid purchased electricity (MWh)')\n",
    "\n",
    "# Electricity cost\n",
    "ax2 = fig.add_subplot(3,2,2, sharex=ax4)\n",
    "sns.barplot(x=s, y=[el_cost_s1/1000, el_cost_s2/1000, el_cost_s3/1000], ax=ax2, color='#bababa', width=0.4)\n",
    "ax2.tick_params(axis=\"x\", pad=-3) \n",
    "ax2.set_yticks([i for i in range(0,350)])\n",
    "ax2.set_yticklabels([])\n",
    "ax2.set_ylabel('Cost (k€)')\n",
    "ax2.yaxis.set_label_position('right')\n",
    "# Add text labels\n",
    "for bar in ax2.patches:\n",
    "    height = bar.get_height()\n",
    "    ax2.text(bar.get_x() + bar.get_width() / 2, height + 0.02, \n",
    "            f\"{height:.4}\", ha=\"center\", va=\"bottom\", fontsize=12, color=\"black\")\n",
    "\n",
    "\n",
    "ax3 = fig.add_subplot(3,2,4, sharex=ax4)\n",
    "sns.barplot(x=s, y=[el_revenue_s1/1000, el_revenue_s2/1000, el_revenue_s3/1000], ax=ax3, color='#bababa', width=0.4)\n",
    "ax3.tick_params(axis=\"x\", pad=-3)\n",
    "ax3.set_yticks([i for i in range(0,85)])\n",
    "ax3.set_yticklabels([])\n",
    "ax3.set_ylabel('Revenue (k€)', loc='center')\n",
    "ax3.yaxis.set_label_position('right')\n",
    "# Add text labels\n",
    "for bar in ax3.patches:\n",
    "    height = bar.get_height()\n",
    "    ax3.text(bar.get_x() + bar.get_width() / 2, height + 0.02, \n",
    "            f\"{height:.3}\", ha=\"center\", va=\"bottom\", fontsize=12, color=\"black\")\n",
    "\n",
    "ax4 = fig.add_subplot(3,2,6)\n",
    "sns.barplot(x=s, y=[el_net_cost_s1/1000, el_net_cost_s2/1000, el_net_cost_s3/1000], ax=ax4, color='#bababa', width=0.4)\n",
    "ax4.tick_params(axis=\"x\", pad=-3)\n",
    "ax4.set_yticks([i for i in range(0,275)])\n",
    "ax4.set_yticklabels([])\n",
    "ax4.set_ylabel('Net cost (k€)')\n",
    "ax4.yaxis.set_label_position('right')\n",
    "# Add text labels\n",
    "for bar in ax4.patches:\n",
    "    height = bar.get_height()\n",
    "    ax4.text(bar.get_x() + bar.get_width() / 2, height + 0.02, \n",
    "            f\"{height:.4}\", ha=\"center\", va=\"bottom\", fontsize=12, color=\"black\")\n",
    "\n",
    "plt.suptitle('Battery energy capacity: 1440 kWh\\nBattery power capacity: 750 kW', fontsize=12, ha='center', y=0.96)\n",
    "\n",
    "plt.savefig('results.png', dpi=600, bbox_inches='tight')"
   ]
  },
  {
   "cell_type": "code",
   "execution_count": 21,
   "id": "d409c116-3fa7-47db-88dc-e7a2ef855c5f",
   "metadata": {},
   "outputs": [
    {
     "data": {
      "text/html": [
       "<div>\n",
       "<style scoped>\n",
       "    .dataframe tbody tr th:only-of-type {\n",
       "        vertical-align: middle;\n",
       "    }\n",
       "\n",
       "    .dataframe tbody tr th {\n",
       "        vertical-align: top;\n",
       "    }\n",
       "\n",
       "    .dataframe thead th {\n",
       "        text-align: right;\n",
       "    }\n",
       "</style>\n",
       "<table border=\"1\" class=\"dataframe\">\n",
       "  <thead>\n",
       "    <tr style=\"text-align: right;\">\n",
       "      <th></th>\n",
       "      <th>category</th>\n",
       "      <th>values1</th>\n",
       "      <th>values2</th>\n",
       "      <th>values3</th>\n",
       "      <th>values4</th>\n",
       "      <th>values5</th>\n",
       "    </tr>\n",
       "  </thead>\n",
       "  <tbody>\n",
       "    <tr>\n",
       "      <th>0</th>\n",
       "      <td>A</td>\n",
       "      <td>46</td>\n",
       "      <td>58</td>\n",
       "      <td>87</td>\n",
       "      <td>85</td>\n",
       "      <td>69</td>\n",
       "    </tr>\n",
       "    <tr>\n",
       "      <th>1</th>\n",
       "      <td>B</td>\n",
       "      <td>12</td>\n",
       "      <td>55</td>\n",
       "      <td>81</td>\n",
       "      <td>35</td>\n",
       "      <td>44</td>\n",
       "    </tr>\n",
       "    <tr>\n",
       "      <th>2</th>\n",
       "      <td>C</td>\n",
       "      <td>78</td>\n",
       "      <td>44</td>\n",
       "      <td>34</td>\n",
       "      <td>96</td>\n",
       "      <td>23</td>\n",
       "    </tr>\n",
       "    <tr>\n",
       "      <th>3</th>\n",
       "      <td>D</td>\n",
       "      <td>36</td>\n",
       "      <td>54</td>\n",
       "      <td>12</td>\n",
       "      <td>18</td>\n",
       "      <td>97</td>\n",
       "    </tr>\n",
       "    <tr>\n",
       "      <th>4</th>\n",
       "      <td>E</td>\n",
       "      <td>58</td>\n",
       "      <td>38</td>\n",
       "      <td>27</td>\n",
       "      <td>19</td>\n",
       "      <td>32</td>\n",
       "    </tr>\n",
       "  </tbody>\n",
       "</table>\n",
       "</div>"
      ],
      "text/plain": [
       "  category  values1  values2  values3  values4  values5\n",
       "0        A       46       58       87       85       69\n",
       "1        B       12       55       81       35       44\n",
       "2        C       78       44       34       96       23\n",
       "3        D       36       54       12       18       97\n",
       "4        E       58       38       27       19       32"
      ]
     },
     "execution_count": 21,
     "metadata": {},
     "output_type": "execute_result"
    }
   ],
   "source": [
    "data = pd.DataFrame({\n",
    "    'category': ['A', 'B', 'C', 'D', 'E'],\n",
    "    'values1': np.random.randint(10, 100, 5),\n",
    "    'values2': np.random.randint(10, 100, 5),\n",
    "    'values3': np.random.randint(10, 100, 5),\n",
    "    'values4': np.random.randint(10, 100, 5),\n",
    "    'values5': np.random.randint(10, 100, 5)\n",
    "})\n",
    "data"
   ]
  },
  {
   "cell_type": "code",
   "execution_count": null,
   "id": "0f5262dc-4d1e-4744-93f8-8cc630add905",
   "metadata": {},
   "outputs": [],
   "source": []
  }
 ],
 "metadata": {
  "kernelspec": {
   "display_name": "Python 3 (ipykernel)",
   "language": "python",
   "name": "python3"
  },
  "language_info": {
   "codemirror_mode": {
    "name": "ipython",
    "version": 3
   },
   "file_extension": ".py",
   "mimetype": "text/x-python",
   "name": "python",
   "nbconvert_exporter": "python",
   "pygments_lexer": "ipython3",
   "version": "3.9.21"
  }
 },
 "nbformat": 4,
 "nbformat_minor": 5
}
